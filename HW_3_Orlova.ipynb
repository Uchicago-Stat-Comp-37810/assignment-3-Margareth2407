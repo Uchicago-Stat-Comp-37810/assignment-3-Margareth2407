{
 "cells": [
  {
   "cell_type": "code",
   "execution_count": 30,
   "metadata": {},
   "outputs": [
    {
     "name": "stdout",
     "output_type": "stream",
     "text": [
      "True\n",
      "False\n",
      "Could not divide by 0\n"
     ]
    }
   ],
   "source": [
    "# ********** Exercise 1 ********** \n",
    "def is_divisible (m,n):\n",
    "    if (n==0):\n",
    "        return \"Could not divide by 0\"\n",
    "    if (m%n)!= 0:\n",
    "        x=False\n",
    "        return (x)\n",
    "    if (m%n)==0: \n",
    "        x=True\n",
    "        return(x)\n",
    "# Test cases for is_divisible\n",
    "print (is_divisible(10,5))  # This should return True\n",
    "print (is_divisible(18,7))  # This should return False\n",
    "print (is_divisible(42,0))  # What should this return? It should return error"
   ]
  },
  {
   "cell_type": "code",
   "execution_count": 29,
   "metadata": {},
   "outputs": [
    {
     "name": "stdout",
     "output_type": "stream",
     "text": [
      "True\n",
      "False\n",
      "False\n",
      "True\n"
     ]
    }
   ],
   "source": [
    "# ********** Exercise 2 ********** \n",
    "def equality_check(a,b):\n",
    "    if (a-b)==0:\n",
    "        print ('True')\n",
    "    if abs(a-b)>0:\n",
    "        print ('False')\n",
    "\n",
    "# Test cases for not_equal\n",
    "equality_check(5,5)\n",
    "equality_check(5,-5)\n",
    "equality_check(4/2+9*3,1+7*5)\n",
    "equality_check(4/2+9/3,25/5)"
   ]
  },
  {
   "cell_type": "code",
   "execution_count": 10,
   "metadata": {},
   "outputs": [
    {
     "name": "stdout",
     "output_type": "stream",
     "text": [
      "sin(pi/4) + cos(pi/4)/2 is:\n",
      "1.0606601717798214\n",
      "ceiling(276/19) + 2 log_7(12) is:\n",
      "17.55397881653925\n"
     ]
    }
   ],
   "source": [
    "# ********** Exercise 3 ********** \n",
    "\n",
    "## 1 - multadd function\n",
    "import math\n",
    "def multadd(a,b,c):\n",
    "    return(a*b+c)\n",
    "## 2 - Equations\n",
    "multadd(3,2,7)\n",
    "multadd(-3,3,5)\n",
    "multadd(-2,3,7)\n",
    "\n",
    "# Test Cases\n",
    "angle_test = multadd(math.cos(math.pi/4),0.5,math.sin(math.pi/4))\n",
    "print (\"sin(pi/4) + cos(pi/4)/2 is:\")\n",
    "print (angle_test)\n",
    "\n",
    "ceiling_test=multadd(math.log(12,7),2,math.ceil(276/19))\n",
    "print (\"ceiling(276/19) + 2 log_7(12) is:\")\n",
    "print (ceiling_test)"
   ]
  },
  {
   "cell_type": "code",
   "execution_count": 12,
   "metadata": {},
   "outputs": [
    {
     "name": "stdout",
     "output_type": "stream",
     "text": [
      "51\n",
      "True\n",
      "99\n",
      "True\n",
      "28\n",
      "False\n"
     ]
    }
   ],
   "source": [
    "# ********** Exercise 4 **********\n",
    "\n",
    "## 1 - rand_divis_3 function\n",
    "import math\n",
    "import random\n",
    "def rand_divis_3():\n",
    "    x = random.randint(0, 100)\n",
    "    print(x)\n",
    "    return(is_divisible (x,3))\n",
    "# Test Cases\n",
    "rand_divis_3()\n",
    "rand_divis_3()\n",
    "rand_divis_3()"
   ]
  },
  {
   "cell_type": "code",
   "execution_count": null,
   "metadata": {},
   "outputs": [],
   "source": []
  },
  {
   "cell_type": "code",
   "execution_count": null,
   "metadata": {},
   "outputs": [],
   "source": []
  }
 ],
 "metadata": {
  "kernelspec": {
   "display_name": "Python 3",
   "language": "python",
   "name": "python3"
  },
  "language_info": {
   "codemirror_mode": {
    "name": "ipython",
    "version": 3
   },
   "file_extension": ".py",
   "mimetype": "text/x-python",
   "name": "python",
   "nbconvert_exporter": "python",
   "pygments_lexer": "ipython3",
   "version": "3.7.0"
  }
 },
 "nbformat": 4,
 "nbformat_minor": 2
}
